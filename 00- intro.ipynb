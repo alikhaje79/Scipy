{
 "cells": [
  {
   "cell_type": "markdown",
   "id": "48941c3a",
   "metadata": {},
   "source": [
    "# install Scipy with pip in cmd"
   ]
  },
  {
   "cell_type": "markdown",
   "id": "2d2d822c",
   "metadata": {},
   "source": [
    " <h3 style=\"color:red;\"> windows</h3>"
   ]
  },
  {
   "cell_type": "markdown",
   "id": "78097d73",
   "metadata": {},
   "source": [
    "python -m pip install --upgrade scipy\n",
    "\n",
    "python -m pip install --upgrade --user scipy"
   ]
  },
  {
   "cell_type": "markdown",
   "id": "7126bacf",
   "metadata": {},
   "source": [
    "<h3 style=\"color:red;\"> mac </h3>"
   ]
  },
  {
   "cell_type": "markdown",
   "id": "362cc2c0",
   "metadata": {},
   "source": [
    "python3 -m pip install --upgrade scipy\n",
    "\n",
    "python3 -m pip install --upgrade --user scipy"
   ]
  },
  {
   "cell_type": "markdown",
   "id": "16093d5d",
   "metadata": {},
   "source": [
    "<h3 style=\"color:red;\"> linux</h3>"
   ]
  },
  {
   "cell_type": "markdown",
   "id": "8f455511",
   "metadata": {},
   "source": [
    "python3 -m pip install --upgrade scipy\n",
    "\n",
    "python3 -m pip install --upgrade --user scipy"
   ]
  }
 ],
 "metadata": {
  "kernelspec": {
   "display_name": "Python 3 (ipykernel)",
   "language": "python",
   "name": "python3"
  },
  "language_info": {
   "codemirror_mode": {
    "name": "ipython",
    "version": 3
   },
   "file_extension": ".py",
   "mimetype": "text/x-python",
   "name": "python",
   "nbconvert_exporter": "python",
   "pygments_lexer": "ipython3",
   "version": "3.10.4"
  }
 },
 "nbformat": 4,
 "nbformat_minor": 5
}
